{
 "cells": [
  {
   "cell_type": "code",
   "execution_count": null,
   "metadata": {},
   "outputs": [],
   "source": [
    "import cv2\n",
    "import numpy as np\n",
    "import matplotlib.pyplot as plt\n",
    "from scipy.spatial import distance_matrix"
   ]
  },
  {
   "cell_type": "code",
   "execution_count": null,
   "metadata": {},
   "outputs": [],
   "source": [
    "imgs = []\n",
    "imgs.append(cv2.imread(\"set1/1.jpg\"))\n",
    "imgs.append(cv2.imread(\"set1/2.jpg\"))\n",
    "imgs.append(cv2.imread(\"set1/3.jpg\"))"
   ]
  },
  {
   "cell_type": "code",
   "execution_count": null,
   "metadata": {},
   "outputs": [],
   "source": [
    "def part2(img, matrix):\n",
    "    rows,cols,_ = img.shape\n",
    "    result = cv2.warpPerspective(img, matrix, (1000, 800))\n",
    "    plt.imshow(result)\n",
    "    plt.show()\n",
    "    return result"
   ]
  },
  {
   "cell_type": "code",
   "execution_count": null,
   "metadata": {},
   "outputs": [],
   "source": [
    "rotation_matrix = np.float32([[np.cos(np.radians(10)), -np.sin(np.radians(10)), 0], [np.sin(np.radians(10)), np.cos(np.radians(10)), 0], [0, 0, 1]])\n",
    "part2(imgs[0], rotation_matrix)\n",
    "\n",
    "translation_matrix = np.float32([[1, 0, 100], [0, 1, 0], [0, 0, 1]])\n",
    "part2(imgs[1], translation_matrix)\n",
    "\n",
    "\n",
    "shrink_matrix = np.float32([[(1/2), 0, 0], [0, (1/2), 0], [0, 0, 1]])\n",
    "part2(imgs[2], shrink_matrix)"
   ]
  },
  {
   "cell_type": "code",
   "execution_count": null,
   "metadata": {},
   "outputs": [],
   "source": [
    "#  Match features\n",
    "\n",
    "def match_features1(feature1, feature2, f1, f2):\n",
    "    distance_M = distance_matrix(feature1, feature2)\n",
    "    i= 0\n",
    "    indices = dict()\n",
    "    height, width = len(feature1), len(feature2)\n",
    "    while i < height:\n",
    "        j = 0\n",
    "        while j < width:\n",
    "            indices[(i, j)] = distance_M[i][j]\n",
    "            j += 1\n",
    "        i += 1\n",
    "\n",
    "    sorted_map= {k: v for k, v in sorted(indices.items(), key=lambda item: item[1])}\n",
    "\n",
    "    result1, result2, i = [], [], 0\n",
    "    for k, v in sorted_map.items():\n",
    "        result1.append(f1[k[0]])\n",
    "        result2.append(f2[k[1]])\n",
    "        if i >= 99: return result1, result2\n",
    "        i += 1\n",
    "\n",
    "\n",
    "    return result1, result2"
   ]
  },
  {
   "cell_type": "code",
   "execution_count": null,
   "metadata": {},
   "outputs": [],
   "source": [
    "# Compute SIFT\n",
    "# Panoramic stitching\n",
    "sift = cv2.SIFT_create()\n",
    "# Compute the SIFT features for each image\n",
    "features, points = [], []\n",
    "for x in imgs:\n",
    "    [f, d] = sift.detectAndCompute(x, None)\n",
    "    features.append(d)\n",
    "    f = [z.pt for z in f]\n",
    "    points.append(f)\n"
   ]
  },
  {
   "cell_type": "code",
   "execution_count": null,
   "metadata": {},
   "outputs": [],
   "source": [
    "\n",
    "\n",
    "\n",
    "# Compute the matching features between jpg1 and jpg2\n",
    "matched_12_1, matched_12_2 = match_features1(features[0], features[1], points[0], points[1])\n",
    "\n",
    "\n",
    "# Compute the matching features between jpg1 and jpg3\n",
    "matched_13_2, matched_13_3 = match_features1(features[1], features[2], points[1], points[2])\n",
    "\n",
    "\n",
    "# image 1, image 2\n",
    "M1, mask1 = cv2.findHomography(np.float32(matched_12_1), np.float32(matched_12_2), cv2.RANSAC, 2.0)\n",
    "\n",
    "# image 3, image 2\n",
    "M2, mask2 = cv2.findHomography(np.float32(matched_13_3), np.float32(matched_13_2), cv2.RANSAC, 2.0)\n",
    "\n",
    "translation_matrix1 = np.float32([[1, 0, 350], [0, 1, 300], [0, 0, 1]])\n",
    "g = np.dot(translation_matrix1, M1)\n",
    "\n",
    "img1 = part2(imgs[0], g)\n",
    "\n",
    "g2 = np.dot(translation_matrix1, M2)\n",
    "img2 = part2(imgs[2], g2)\n",
    "\n",
    "# translate image 2\n",
    "img3 = part2(imgs[1], translation_matrix1)\n",
    "\n",
    "# Fuse the images together\n",
    "# fuse1 = np.maximum(img1, img3)\n",
    "# fuse2 = np.maximum(fuse1, img2)\n",
    "fuse2 = np.maximum(img2, img3)\n",
    "\n",
    "plt.imshow(fuse2)\n",
    "plt.show()\n"
   ]
  },
  {
   "cell_type": "code",
   "execution_count": null,
   "metadata": {},
   "outputs": [],
   "source": []
  }
 ],
 "metadata": {
  "language_info": {
   "name": "python"
  },
  "orig_nbformat": 4
 },
 "nbformat": 4,
 "nbformat_minor": 2
}
